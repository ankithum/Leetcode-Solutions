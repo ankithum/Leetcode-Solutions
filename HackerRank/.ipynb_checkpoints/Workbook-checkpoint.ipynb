{
 "cells": [
  {
   "cell_type": "code",
   "execution_count": 151,
   "metadata": {},
   "outputs": [
    {
     "data": {
      "text/plain": [
       "'imtgdvs fearwer mayoogo anouuio ntnnlvt wttddes aohghn sseoau'"
      ]
     },
     "execution_count": 151,
     "metadata": {},
     "output_type": "execute_result"
    }
   ],
   "source": [
    "def encryption(s):\n",
    "    s = s.replace(\" \",\"\")\n",
    "    rt = math.sqrt(len(s))\n",
    "    row = math.floor(rt)\n",
    "    col = math.ceil(rt)\n",
    "    \n",
    "    # enstr = \"\"\n",
    "    lstfr = []\n",
    "    i = 0\n",
    "    \n",
    "    while i < len(s):\n",
    "        temp = []\n",
    "        for e in range(col):\n",
    "            try:\n",
    "                temp.append(s[i])\n",
    "                i += 1\n",
    "            except:\n",
    "                break\n",
    "        lstfr.append(temp)\n",
    "        \n",
    "        \n",
    "    finalstr = \"\"\n",
    "    for i in range(len(lstfr[0])):\n",
    "        for each in lstfr:\n",
    "            try:\n",
    "                finalstr += each[i]\n",
    "            except:\n",
    "                continue\n",
    "        finalstr += \" \"\n",
    "        \n",
    "    return finalstr.strip()\n",
    "\n",
    "s = \"if man was meant to stay on the ground god would have given us roots\"\n",
    "encryption(s)"
   ]
  }
 ],
 "metadata": {
  "kernelspec": {
   "display_name": "Python 3",
   "language": "python",
   "name": "python3"
  },
  "language_info": {
   "codemirror_mode": {
    "name": "ipython",
    "version": 3
   },
   "file_extension": ".py",
   "mimetype": "text/x-python",
   "name": "python",
   "nbconvert_exporter": "python",
   "pygments_lexer": "ipython3",
   "version": "3.7.3"
  }
 },
 "nbformat": 4,
 "nbformat_minor": 2
}
