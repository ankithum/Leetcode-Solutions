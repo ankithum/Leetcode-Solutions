{
 "cells": [
  {
   "cell_type": "code",
   "execution_count": null,
   "metadata": {},
   "outputs": [],
   "source": [
    "'''\n",
    "Problem Statement : \n",
    "\n",
    "'''"
   ]
  },
  {
   "cell_type": "code",
   "execution_count": 3,
   "metadata": {},
   "outputs": [
    {
     "name": "stdout",
     "output_type": "stream",
     "text": [
      "72\n",
      "9\n",
      "9\n",
      "Result : 9\n"
     ]
    }
   ],
   "source": [
    "#!/bin/python3\n",
    "\n",
    "import math\n",
    "import os\n",
    "import random\n",
    "import re\n",
    "import sys\n",
    "\n",
    "superdigit = 0\n",
    "# Complete the superDigit function below.\n",
    "def superDigit(n, k):\n",
    "    if len(n) != 0 or len(n) > 0:\n",
    "        p = n*k\n",
    "        digit = 0\n",
    "        if len(p) > 1:\n",
    "            for i in range(len(p)):\n",
    "                digit += int(p[i])\n",
    "            print(digit)\n",
    "            return superDigit(str(digit), 1)\n",
    "        else:\n",
    "            print(p)\n",
    "            return p\n",
    "    else:\n",
    "        return int(p)\n",
    "    \n",
    "n = '156'\n",
    "k = 6\n",
    "result = superDigit(n,k)\n",
    "print(\"Result : \" + result)"
   ]
  },
  {
   "cell_type": "code",
   "execution_count": 14,
   "metadata": {},
   "outputs": [],
   "source": []
  },
  {
   "cell_type": "code",
   "execution_count": null,
   "metadata": {},
   "outputs": [],
   "source": []
  }
 ],
 "metadata": {
  "kernelspec": {
   "display_name": "Python 3",
   "language": "python",
   "name": "python3"
  },
  "language_info": {
   "codemirror_mode": {
    "name": "ipython",
    "version": 3
   },
   "file_extension": ".py",
   "mimetype": "text/x-python",
   "name": "python",
   "nbconvert_exporter": "python",
   "pygments_lexer": "ipython3",
   "version": "3.7.3"
  }
 },
 "nbformat": 4,
 "nbformat_minor": 2
}
