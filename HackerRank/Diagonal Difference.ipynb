{
 "cells": [
  {
   "cell_type": "code",
   "execution_count": null,
   "metadata": {},
   "outputs": [],
   "source": [
    "'''\n",
    "Problem Statement :\n",
    "Given a square matrix, calculate the absolute difference between the sums of its diagonals.\n",
    "1 2 3\n",
    "4 5 6\n",
    "9 8 9 \n",
    "The left-to-right diagonal = 1+5+9 = 15. \n",
    "The right to left diagonal = 3+5+9 = 17. \n",
    "Their absolute difference is |15-17| = 2.\n",
    "'''"
   ]
  },
  {
   "cell_type": "code",
   "execution_count": null,
   "metadata": {},
   "outputs": [],
   "source": [
    "# Square Matrix Traversal and use of abs()\n",
    "\n",
    "x = int(input(\"Enter Matrix Row Size\"))\n",
    "y = int(input(\"Enter Matrix Column Size\"))\n",
    "\n",
    "matrix = []\n",
    "\n",
    "for i in range(x):\n",
    "    temp = []\n",
    "    for j in range(y):  \n",
    "        tempVar = int(input(\"Enter :\"+str(i)+str(j))+\" \")\n",
    "        temp.append(tempVar)\n",
    "    matrix.append(temp)"
   ]
  },
  {
   "cell_type": "code",
   "execution_count": 2,
   "metadata": {},
   "outputs": [
    {
     "data": {
      "text/plain": [
       "[[4, 2, 6], [1, 8, 3], [9, 7, 2]]"
      ]
     },
     "execution_count": 2,
     "metadata": {},
     "output_type": "execute_result"
    }
   ],
   "source": [
    "matrix"
   ]
  },
  {
   "cell_type": "code",
   "execution_count": 9,
   "metadata": {},
   "outputs": [
    {
     "name": "stdout",
     "output_type": "stream",
     "text": [
      "leftToRight 4\n",
      "rightToLeft 6\n",
      "leftToRight 12\n",
      "rightToLeft 14\n",
      "rightToLeft 23\n",
      "leftToRight 14\n"
     ]
    },
    {
     "data": {
      "text/plain": [
       "9"
      ]
     },
     "execution_count": 9,
     "metadata": {},
     "output_type": "execute_result"
    }
   ],
   "source": [
    "leftToRight = 0\n",
    "rightToLeft = 0\n",
    "for i in range(x):\n",
    "    for j in range(y):\n",
    "        # For leftToRight Diagonal the elements are M00, M11, M22, M33, M44 i.e. row = columns\n",
    "        if i==j:\n",
    "            leftToRight += matrix[i][j]\n",
    "            print(\"leftToRight\",leftToRight)\n",
    "        # For rightToLeft Diagonal condition is row = numberOfRows – column-1.\n",
    "        if (i+j)==(y-1):\n",
    "            rightToLeft += matrix[i][j]\n",
    "            print(\"rightToLeft\",rightToLeft)\n",
    "difference = leftToRight - rightToLeft\n",
    "abs(difference) \n",
    "# abs will return the absolute value of any number. Absolute value is always a non-negative number."
   ]
  },
  {
   "cell_type": "code",
   "execution_count": null,
   "metadata": {},
   "outputs": [],
   "source": []
  },
  {
   "cell_type": "code",
   "execution_count": null,
   "metadata": {},
   "outputs": [],
   "source": []
  }
 ],
 "metadata": {
  "kernelspec": {
   "display_name": "Python 3",
   "language": "python",
   "name": "python3"
  },
  "language_info": {
   "codemirror_mode": {
    "name": "ipython",
    "version": 3
   },
   "file_extension": ".py",
   "mimetype": "text/x-python",
   "name": "python",
   "nbconvert_exporter": "python",
   "pygments_lexer": "ipython3",
   "version": "3.7.3"
  }
 },
 "nbformat": 4,
 "nbformat_minor": 2
}
