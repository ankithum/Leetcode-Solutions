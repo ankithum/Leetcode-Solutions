{
 "cells": [
  {
   "cell_type": "code",
   "execution_count": 8,
   "metadata": {},
   "outputs": [
    {
     "name": "stdout",
     "output_type": "stream",
     "text": [
      "How many candles you want to put3\n",
      "Candle height ? : 4\n",
      "Candle height ? : 5\n",
      "Candle height ? : 4\n",
      "[4, 5, 4]\n",
      "1\n"
     ]
    }
   ],
   "source": [
    "'''\n",
    "Platform : HackerRank\n",
    "PROBLEM STATEMENT : \n",
    "If your niece is turning 4 years old, and the cake will have 4 candles of height 4, 4, 1, 3.\n",
    "She will be able to blow out 2 candles successfully, \n",
    "since the tallest candles are of height 4 and there are 2 such candles.\n",
    "\n",
    "Complete the function birthdayCakeCandles in the editor below.\n",
    "It must return an integer representing the number of candles she can blow out.\n",
    "\n",
    "Input :\n",
    "4\n",
    "3 2 1 3\n",
    "\n",
    "Output :\n",
    "2\n",
    "\n",
    "'''\n",
    "# Max(list) returns max element from the list\n",
    "\n",
    "\n",
    "def birthdayCakeCandles(candles):\n",
    "    maxHeight = max(candles)\n",
    "    totalCandles = 0\n",
    "    for each in candles:\n",
    "        if each == maxHeight:\n",
    "            totalCandles += 1\n",
    "    return totalCandles\n",
    "    \n",
    "ch = int(input(\"How many candles you want to put\"))\n",
    "candles = []\n",
    "for each in range(ch):\n",
    "    candle = int(input(\"Candle height ? : \"))\n",
    "    candles.append(candle)\n",
    "birthdayCakeCandles(candles)"
   ]
  },
  {
   "cell_type": "code",
   "execution_count": null,
   "metadata": {},
   "outputs": [],
   "source": []
  }
 ],
 "metadata": {
  "kernelspec": {
   "display_name": "Python 3",
   "language": "python",
   "name": "python3"
  },
  "language_info": {
   "codemirror_mode": {
    "name": "ipython",
    "version": 3
   },
   "file_extension": ".py",
   "mimetype": "text/x-python",
   "name": "python",
   "nbconvert_exporter": "python",
   "pygments_lexer": "ipython3",
   "version": "3.7.3"
  }
 },
 "nbformat": 4,
 "nbformat_minor": 2
}
