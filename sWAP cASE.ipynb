{
 "cells": [
  {
   "cell_type": "code",
   "execution_count": 20,
   "metadata": {},
   "outputs": [
    {
     "name": "stdout",
     "output_type": "stream",
     "text": [
      "Enter Some String : 23498sddfhjiuy34 3248yuiuhsdf\n",
      "23498SDDFHJIUY34 3248YUIUHSDF\n"
     ]
    }
   ],
   "source": [
    "# Using FOR Loop without using swapcase()\n",
    "string = input(\"Enter Some String : \")\n",
    "temp = ''\n",
    "for each in string:\n",
    "    if each.isupper() == True :\n",
    "        temp = temp + each.lower()\n",
    "    elif each.islower() == True :\n",
    "        temp = temp + each.upper()\n",
    "    else:\n",
    "        temp = temp + each # For spaces\n",
    "print(temp)"
   ]
  },
  {
   "cell_type": "code",
   "execution_count": 31,
   "metadata": {},
   "outputs": [
    {
     "name": "stdout",
     "output_type": "stream",
     "text": [
      "Enter Some String : omk aads !\n"
     ]
    },
    {
     "data": {
      "text/plain": [
       "'OMK AADS !'"
      ]
     },
     "execution_count": 31,
     "metadata": {},
     "output_type": "execute_result"
    }
   ],
   "source": [
    "# Using string Swapcase() method\n",
    "string = input(\"Enter Some String : \")\n",
    "string = string.swapcase()\n",
    "string"
   ]
  },
  {
   "cell_type": "code",
   "execution_count": null,
   "metadata": {},
   "outputs": [],
   "source": []
  }
 ],
 "metadata": {
  "kernelspec": {
   "display_name": "Python 3",
   "language": "python",
   "name": "python3"
  },
  "language_info": {
   "codemirror_mode": {
    "name": "ipython",
    "version": 3
   },
   "file_extension": ".py",
   "mimetype": "text/x-python",
   "name": "python",
   "nbconvert_exporter": "python",
   "pygments_lexer": "ipython3",
   "version": "3.7.3"
  }
 },
 "nbformat": 4,
 "nbformat_minor": 2
}
