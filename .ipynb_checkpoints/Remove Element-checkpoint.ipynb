{
 "cells": [
  {
   "cell_type": "code",
   "execution_count": null,
   "metadata": {},
   "outputs": [],
   "source": [
    "# Description"
   ]
  },
  {
   "cell_type": "code",
   "execution_count": null,
   "metadata": {},
   "outputs": [],
   "source": [
    "nums1 = [0,1,2,2,3,0,4,2]\n",
    "er = 2\n",
    "for each in nums1:\n",
    "    if er == each:\n",
    "        nums1.remove(each)\n",
    "    \n",
    "print(nums1)"
   ]
  },
  {
   "cell_type": "code",
   "execution_count": 9,
   "metadata": {},
   "outputs": [
    {
     "name": "stdout",
     "output_type": "stream",
     "text": [
      "[0, 1, 2, 2, 3, 0, 4, 2]\n",
      "2\n",
      "2\n",
      "2\n"
     ]
    }
   ],
   "source": [
    "# Main Solution\n",
    "\n",
    "\n",
    "class Solution(object):\n",
    "    @staticmethod\n",
    "    def removeElement(nums, val):\n",
    "        for index in range(0,len(nums)):\n",
    "            if val == nums[index]:\n",
    "                nums.pop(index)\n",
    "            \n",
    "nums = [0,1,2,2,3,0,4,2]\n",
    "print(nums)\n",
    "val = 2\n",
    "Solution.removeElement(nums,val)"
   ]
  },
  {
   "cell_type": "code",
   "execution_count": null,
   "metadata": {},
   "outputs": [],
   "source": []
  }
 ],
 "metadata": {
  "kernelspec": {
   "display_name": "Python 3",
   "language": "python",
   "name": "python3"
  },
  "language_info": {
   "codemirror_mode": {
    "name": "ipython",
    "version": 3
   },
   "file_extension": ".py",
   "mimetype": "text/x-python",
   "name": "python",
   "nbconvert_exporter": "python",
   "pygments_lexer": "ipython3",
   "version": "3.7.3"
  }
 },
 "nbformat": 4,
 "nbformat_minor": 2
}
