{
 "cells": [
  {
   "cell_type": "code",
   "execution_count": null,
   "metadata": {},
   "outputs": [],
   "source": [
    "'''\n",
    "Problem Statement :\n",
    "You are asked to ensure that the first and last names of people begin with a capital letter in their passports. \n",
    "For example, alison heck should be capitalised correctly as Alison Heck.\n",
    "\n",
    "Note: in a word only the first character is capitalized. Example 12abc when capitalized remains 12abc.\n",
    "'''"
   ]
  },
  {
   "cell_type": "code",
   "execution_count": 32,
   "metadata": {},
   "outputs": [
    {
     "name": "stdout",
     "output_type": "stream",
     "text": [
      "Name ? omkar k a d a m\n",
      "['omkar', 'k', 'a', 'd', 'a', 'm']\n"
     ]
    }
   ],
   "source": [
    "s = input(\"Name ? \")\n",
    "s = s.split(\" \")\n",
    "print(s)"
   ]
  },
  {
   "cell_type": "code",
   "execution_count": 33,
   "metadata": {},
   "outputs": [
    {
     "name": "stdout",
     "output_type": "stream",
     "text": [
      "Omkar K A D A M\n"
     ]
    }
   ],
   "source": [
    "originalName = ''\n",
    "for i in range(len(list(s))):\n",
    "    if len(s[i]) > 1:\n",
    "        s[i] = s[i][0].upper()+s[i][1:]\n",
    "    else:\n",
    "        s[i] = s[i].upper()\n",
    "originalName =  \" \".join(s)\n",
    "print(originalName)"
   ]
  },
  {
   "cell_type": "code",
   "execution_count": null,
   "metadata": {},
   "outputs": [],
   "source": []
  }
 ],
 "metadata": {
  "kernelspec": {
   "display_name": "Python 3",
   "language": "python",
   "name": "python3"
  },
  "language_info": {
   "codemirror_mode": {
    "name": "ipython",
    "version": 3
   },
   "file_extension": ".py",
   "mimetype": "text/x-python",
   "name": "python",
   "nbconvert_exporter": "python",
   "pygments_lexer": "ipython3",
   "version": "3.7.3"
  }
 },
 "nbformat": 4,
 "nbformat_minor": 2
}
