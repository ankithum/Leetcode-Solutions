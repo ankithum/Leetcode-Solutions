{
 "cells": [
  {
   "cell_type": "code",
   "execution_count": 50,
   "metadata": {},
   "outputs": [
    {
     "name": "stdout",
     "output_type": "stream",
     "text": [
      "7\n"
     ]
    }
   ],
   "source": [
    "from functools import reduce\n",
    "num = 1\n",
    "i = 1\n",
    "cnt = 0\n",
    "while i < 30:\n",
    "    cnt +=1\n",
    "    i = i+num\n",
    "    num = i - num\n",
    "    \n",
    "print(cnt)"
   ]
  },
  {
   "cell_type": "code",
   "execution_count": 53,
   "metadata": {},
   "outputs": [
    {
     "data": {
      "text/plain": [
       "514229"
      ]
     },
     "execution_count": 53,
     "metadata": {},
     "output_type": "execute_result"
    }
   ],
   "source": [
    "from functools import reduce\n",
    "def fibser(n):\n",
    "    a = 0\n",
    "    b = 1\n",
    "    j = n -1\n",
    "    k = n-2\n",
    "    for i in range(2,j):\n",
    "        c = a+b\n",
    "        a = b\n",
    "        b = c\n",
    "    cnt = c\n",
    "    c = 0\n",
    "    a = 0\n",
    "    b = 1\n",
    "    for m in range(2,k):\n",
    "        c = a+b\n",
    "        a = b\n",
    "        b = c\n",
    "    return c+cnt\n",
    "fibser(30)    "
   ]
  },
  {
   "cell_type": "code",
   "execution_count": 59,
   "metadata": {},
   "outputs": [
    {
     "name": "stdout",
     "output_type": "stream",
     "text": [
      "53\n"
     ]
    }
   ],
   "source": [
    "class Solution(object):\n",
    "    @staticmethod\n",
    "    def fib(N):\n",
    "        \"\"\"\n",
    "        :type N: int\n",
    "        :rtype: int\n",
    "        \"\"\"\n",
    "        if N == 0 or N == 1:\n",
    "            return 1\n",
    "        num = 1\n",
    "        i = 1\n",
    "        cnt = 0\n",
    "        while i < N:\n",
    "            cnt +=i\n",
    "            i = i+num\n",
    "            num = i - num\n",
    "        print(cnt)\n",
    "Solution.fib(30)"
   ]
  },
  {
   "cell_type": "code",
   "execution_count": 77,
   "metadata": {},
   "outputs": [
    {
     "data": {
      "text/plain": [
       "1265"
      ]
     },
     "execution_count": 77,
     "metadata": {},
     "output_type": "execute_result"
    }
   ],
   "source": [
    "from itertools import permutations\n",
    "s = 'aaabbcu'\n",
    "cnt = 0\n",
    "for i in range(1,len(s)+1):\n",
    "    lst = permutations(list(s),i)\n",
    "    cnt += len(set(lst))\n",
    "    \n",
    "    \n",
    "cnt"
   ]
  },
  {
   "cell_type": "code",
   "execution_count": 80,
   "metadata": {},
   "outputs": [
    {
     "data": {
      "text/plain": [
       "8"
      ]
     },
     "execution_count": 80,
     "metadata": {},
     "output_type": "execute_result"
    }
   ],
   "source": [
    "from itertools import permutations\n",
    "class Solution(object):\n",
    "    @staticmethod\n",
    "    def numTilePossibilities(tiles):\n",
    "        \"\"\"\n",
    "        :type tiles: str\n",
    "        :rtype: int\n",
    "        \"\"\"\n",
    "        cnt = 0\n",
    "        for i in range(1,len(tiles)+1):\n",
    "            lst = permutations(list(tiles),i)\n",
    "            cnt += len(set(lst))\n",
    "        return cnt\n",
    "Solution.numTilePossibilities('aab')"
   ]
  },
  {
   "cell_type": "code",
   "execution_count": null,
   "metadata": {},
   "outputs": [],
   "source": []
  },
  {
   "cell_type": "code",
   "execution_count": null,
   "metadata": {},
   "outputs": [],
   "source": []
  }
 ],
 "metadata": {
  "kernelspec": {
   "display_name": "Python 3",
   "language": "python",
   "name": "python3"
  },
  "language_info": {
   "codemirror_mode": {
    "name": "ipython",
    "version": 3
   },
   "file_extension": ".py",
   "mimetype": "text/x-python",
   "name": "python",
   "nbconvert_exporter": "python",
   "pygments_lexer": "ipython3",
   "version": "3.7.3"
  }
 },
 "nbformat": 4,
 "nbformat_minor": 2
}
